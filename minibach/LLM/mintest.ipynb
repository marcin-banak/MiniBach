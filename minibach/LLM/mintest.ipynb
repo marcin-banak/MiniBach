{
 "cells": [
  {
   "cell_type": "code",
   "execution_count": 1,
   "metadata": {},
   "outputs": [],
   "source": [
    "from pathlib import Path\n",
    "from random import shuffle\n",
    "\n",
    "# from evaluate import load as load_metric\n",
    "from miditok import REMI\n",
    "from miditok.pytorch_data import DatasetMIDI, DataCollator\n",
    "from miditok.utils import split_files_for_training\n",
    "from miditok.data_augmentation import augment_dataset\n",
    "from torch import Tensor, argmax\n",
    "from torch.utils.data import DataLoader\n",
    "from transformers.trainer_utils import set_seed\n",
    "import sys\n",
    "import os\n",
    "\n",
    "# Pobranie ścieżki do folderu głównego projektu (dostosuj, jeśli to konieczne)\n",
    "project_path = os.path.abspath(\"../minGPT_\")\n",
    "\n",
    "# Dodanie tej ścieżki do `sys.path`\n",
    "if project_path not in sys.path:\n",
    "    sys.path.append(project_path)\n",
    "\n",
    "# Teraz powinno działać\n",
    "from projects.midi.midi import MidiDataset"
   ]
  },
  {
   "cell_type": "code",
   "execution_count": 2,
   "metadata": {},
   "outputs": [
    {
     "data": {
      "text/plain": [
       "WindowsPath('tokenizer_filtered.json')"
      ]
     },
     "execution_count": 2,
     "metadata": {},
     "output_type": "execute_result"
    }
   ],
   "source": [
    "tokenizer_path = Path(\"tokenizer_filtered.json\")\n",
    "tokenizer = REMI(params=tokenizer_path)\n",
    "\n",
    "pad_token = tokenizer[\"PAD_None\"]\n",
    "tokenizer_path"
   ]
  },
  {
   "cell_type": "code",
   "execution_count": 3,
   "metadata": {},
   "outputs": [
    {
     "name": "stdout",
     "output_type": "stream",
     "text": [
      "filtered_midi\\Maestro_train\\Blues\\(Sittin On) The Dock Of The Bay_0.mid\n"
     ]
    }
   ],
   "source": [
    "dir_name = \"filtered_midi\"\n",
    "\n",
    "# Create Dataset and Collator for training\n",
    "\n",
    "midi_paths_train = list(Path(f\"{dir_name}/Maestro_train\").glob(\"**/*.mid\")) + list(\n",
    "    Path(f\"{dir_name}/Maestro_train\").glob(\"**/*.midi\")\n",
    ")\n",
    "\n",
    "midi_paths_valid = list(Path(f\"{dir_name}/Maestro_valid\").glob(\"**/*.mid\")) + list(\n",
    "    Path(f\"{dir_name}/Maestro_valid\").glob(\"**/*.midi\")\n",
    ")\n",
    "\n",
    "midi_paths_test = list(Path(f\"{dir_name}/Maestro_test\").glob(\"**/*.mid\")) + list(\n",
    "    Path(f\"{dir_name}/Maestro_test\").glob(\"**/*.midi\")\n",
    ")\n",
    "\n",
    "kwargs_dataset = {\n",
    "    \"max_seq_len\": 1024,\n",
    "    \"tokenizer\": tokenizer,\n",
    "    \"bos_token_id\": tokenizer[\"BOS_None\"],\n",
    "    \"eos_token_id\": tokenizer[\"EOS_None\"],\n",
    "}\n",
    "\n",
    "dataset_train = DatasetMIDI(midi_paths_train, **kwargs_dataset)\n",
    "\n",
    "dataset_valid = DatasetMIDI(midi_paths_valid, **kwargs_dataset)\n",
    "\n",
    "dataset_test = DatasetMIDI(midi_paths_test, **kwargs_dataset)\n",
    "print(midi_paths_train[0])"
   ]
  },
  {
   "cell_type": "code",
   "execution_count": 4,
   "metadata": {},
   "outputs": [],
   "source": [
    "tran_config = {\"max_seq_len\": 1024, \"pad_token_id\": pad_token, \"pred_num\": 1}\n",
    "\n",
    "train_dataset = MidiDataset(dataset_train, **tran_config)\n",
    "valid_dataset = MidiDataset(dataset_valid, **tran_config)\n",
    "test_dataset = MidiDataset(dataset_test, **tran_config)"
   ]
  },
  {
   "cell_type": "code",
   "execution_count": 6,
   "metadata": {},
   "outputs": [
    {
     "name": "stdout",
     "output_type": "stream",
     "text": [
      "number of parameters: 8.63M\n"
     ]
    }
   ],
   "source": [
    "from mingpt.model import GPT\n",
    "\n",
    "model_config = GPT.get_default_config()\n",
    "# model_config.model_type = \"gpt-nano\"\n",
    "model_config.model_type = \"gpt-micro\"\n",
    "model_config.model_type = \"gpt-mini\"\n",
    "\n",
    "model_config.vocab_size = len(tokenizer)\n",
    "model_config.block_size = 1024\n",
    "\n",
    "\n",
    "model = GPT(model_config)"
   ]
  },
  {
   "cell_type": "code",
   "execution_count": 8,
   "metadata": {},
   "outputs": [
    {
     "name": "stdout",
     "output_type": "stream",
     "text": [
      "6 6 192\n"
     ]
    }
   ],
   "source": [
    "print(model_config.n_head, model_config.n_layer, model_config.n_embd)"
   ]
  },
  {
   "cell_type": "code",
   "execution_count": null,
   "metadata": {},
   "outputs": [
    {
     "name": "stdout",
     "output_type": "stream",
     "text": [
      "running on device cuda\n"
     ]
    }
   ],
   "source": [
    "import torch\n",
    "from mingpt.trainer import Trainer\n",
    "\n",
    "\n",
    "torch.cuda.empty_cache()\n",
    "\n",
    "train_config = Trainer.get_default_config()\n",
    "\n",
    "train_config.learning_rate = (\n",
    "    2e-6  # the model we're using is so small that we can go a bit faster\n",
    ")\n",
    "\n",
    "train_config.batch_size = 4\n",
    "train_config.max_iters = 10000\n",
    "train_config.num_workers = 4\n",
    "train_config.weight_decay = 0.01\n",
    "train_config.lr_decay = True\n",
    "trainer = Trainer(train_config, model, train_dataset)"
   ]
  },
  {
   "cell_type": "code",
   "execution_count": 16,
   "metadata": {},
   "outputs": [
    {
     "name": "stdout",
     "output_type": "stream",
     "text": [
      "iter_dt 0.00ms; iter 0: train loss 6.02869\n",
      "iter_dt 104.59ms; iter 100: train loss 6.30962\n",
      "iter_dt 99.51ms; iter 200: train loss 6.16574\n",
      "iter_dt 99.00ms; iter 300: train loss 6.25159\n",
      "iter_dt 100.68ms; iter 400: train loss 6.10930\n",
      "iter_dt 110.00ms; iter 500: train loss 6.14454\n",
      "iter_dt 105.01ms; iter 600: train loss 6.12348\n",
      "iter_dt 102.71ms; iter 700: train loss 5.58805\n",
      "iter_dt 104.54ms; iter 800: train loss 6.15513\n",
      "iter_dt 102.65ms; iter 900: train loss 5.99168\n",
      "iter_dt 103.12ms; iter 1000: train loss 5.79127\n",
      "iter_dt 104.05ms; iter 1100: train loss 5.54614\n",
      "iter_dt 100.75ms; iter 1200: train loss 5.80687\n",
      "iter_dt 98.87ms; iter 1300: train loss 5.49399\n",
      "iter_dt 111.44ms; iter 1400: train loss 5.87814\n",
      "iter_dt 107.04ms; iter 1500: train loss 5.93801\n",
      "iter_dt 94.10ms; iter 1600: train loss 6.12194\n",
      "iter_dt 92.21ms; iter 1700: train loss 6.05065\n",
      "iter_dt 100.37ms; iter 1800: train loss 5.69183\n",
      "iter_dt 97.04ms; iter 1900: train loss 6.18901\n",
      "iter_dt 104.67ms; iter 2000: train loss 6.09074\n",
      "iter_dt 100.01ms; iter 2100: train loss 6.14893\n",
      "iter_dt 100.00ms; iter 2200: train loss 6.20530\n",
      "iter_dt 100.04ms; iter 2300: train loss 6.14859\n",
      "iter_dt 104.68ms; iter 2400: train loss 5.84373\n",
      "iter_dt 106.48ms; iter 2500: train loss 5.91431\n",
      "iter_dt 102.36ms; iter 2600: train loss 5.98257\n",
      "iter_dt 102.12ms; iter 2700: train loss 6.18275\n",
      "iter_dt 102.09ms; iter 2800: train loss 6.27464\n"
     ]
    },
    {
     "ename": "KeyboardInterrupt",
     "evalue": "",
     "output_type": "error",
     "traceback": [
      "\u001b[1;31m---------------------------------------------------------------------------\u001b[0m",
      "\u001b[1;31mKeyboardInterrupt\u001b[0m                         Traceback (most recent call last)",
      "Cell \u001b[1;32mIn[16], line 10\u001b[0m\n\u001b[0;32m      3\u001b[0m         \u001b[38;5;28mprint\u001b[39m(\n\u001b[0;32m      4\u001b[0m             \u001b[38;5;124mf\u001b[39m\u001b[38;5;124m\"\u001b[39m\u001b[38;5;124miter_dt \u001b[39m\u001b[38;5;132;01m{\u001b[39;00mtrainer\u001b[38;5;241m.\u001b[39miter_dt\u001b[38;5;250m \u001b[39m\u001b[38;5;241m*\u001b[39m\u001b[38;5;250m \u001b[39m\u001b[38;5;241m1000\u001b[39m\u001b[38;5;132;01m:\u001b[39;00m\u001b[38;5;124m.2f\u001b[39m\u001b[38;5;132;01m}\u001b[39;00m\u001b[38;5;124mms; iter \u001b[39m\u001b[38;5;132;01m{\u001b[39;00mtrainer\u001b[38;5;241m.\u001b[39miter_num\u001b[38;5;132;01m}\u001b[39;00m\u001b[38;5;124m: train loss \u001b[39m\u001b[38;5;132;01m{\u001b[39;00mtrainer\u001b[38;5;241m.\u001b[39mloss\u001b[38;5;241m.\u001b[39mitem()\u001b[38;5;132;01m:\u001b[39;00m\u001b[38;5;124m.5f\u001b[39m\u001b[38;5;132;01m}\u001b[39;00m\u001b[38;5;124m\"\u001b[39m\n\u001b[0;32m      5\u001b[0m         )\n\u001b[0;32m      8\u001b[0m trainer\u001b[38;5;241m.\u001b[39mset_callback(\u001b[38;5;124m\"\u001b[39m\u001b[38;5;124mon_batch_end\u001b[39m\u001b[38;5;124m\"\u001b[39m, batch_end_callback)\n\u001b[1;32m---> 10\u001b[0m \u001b[43mtrainer\u001b[49m\u001b[38;5;241;43m.\u001b[39;49m\u001b[43mrun\u001b[49m\u001b[43m(\u001b[49m\u001b[43m)\u001b[49m\n",
      "File \u001b[1;32mc:\\users\\mikol\\desktop\\studia\\5_sem\\language_models\\mingpt\\mingpt\\trainer.py:97\u001b[0m, in \u001b[0;36mTrainer.run\u001b[1;34m(self)\u001b[0m\n\u001b[0;32m     95\u001b[0m \u001b[38;5;66;03m# backprop and update the parameters\u001b[39;00m\n\u001b[0;32m     96\u001b[0m model\u001b[38;5;241m.\u001b[39mzero_grad(set_to_none\u001b[38;5;241m=\u001b[39m\u001b[38;5;28;01mTrue\u001b[39;00m)\n\u001b[1;32m---> 97\u001b[0m \u001b[38;5;28;43mself\u001b[39;49m\u001b[38;5;241;43m.\u001b[39;49m\u001b[43mloss\u001b[49m\u001b[38;5;241;43m.\u001b[39;49m\u001b[43mbackward\u001b[49m\u001b[43m(\u001b[49m\u001b[43m)\u001b[49m\n\u001b[0;32m     98\u001b[0m torch\u001b[38;5;241m.\u001b[39mnn\u001b[38;5;241m.\u001b[39mutils\u001b[38;5;241m.\u001b[39mclip_grad_norm_(model\u001b[38;5;241m.\u001b[39mparameters(), config\u001b[38;5;241m.\u001b[39mgrad_norm_clip)\n\u001b[0;32m     99\u001b[0m \u001b[38;5;28mself\u001b[39m\u001b[38;5;241m.\u001b[39moptimizer\u001b[38;5;241m.\u001b[39mstep()\n",
      "File \u001b[1;32mc:\\Users\\mikol\\AppData\\Local\\Programs\\Python\\Python310\\lib\\site-packages\\torch\\_tensor.py:581\u001b[0m, in \u001b[0;36mTensor.backward\u001b[1;34m(self, gradient, retain_graph, create_graph, inputs)\u001b[0m\n\u001b[0;32m    571\u001b[0m \u001b[38;5;28;01mif\u001b[39;00m has_torch_function_unary(\u001b[38;5;28mself\u001b[39m):\n\u001b[0;32m    572\u001b[0m     \u001b[38;5;28;01mreturn\u001b[39;00m handle_torch_function(\n\u001b[0;32m    573\u001b[0m         Tensor\u001b[38;5;241m.\u001b[39mbackward,\n\u001b[0;32m    574\u001b[0m         (\u001b[38;5;28mself\u001b[39m,),\n\u001b[1;32m   (...)\u001b[0m\n\u001b[0;32m    579\u001b[0m         inputs\u001b[38;5;241m=\u001b[39minputs,\n\u001b[0;32m    580\u001b[0m     )\n\u001b[1;32m--> 581\u001b[0m \u001b[43mtorch\u001b[49m\u001b[38;5;241;43m.\u001b[39;49m\u001b[43mautograd\u001b[49m\u001b[38;5;241;43m.\u001b[39;49m\u001b[43mbackward\u001b[49m\u001b[43m(\u001b[49m\n\u001b[0;32m    582\u001b[0m \u001b[43m    \u001b[49m\u001b[38;5;28;43mself\u001b[39;49m\u001b[43m,\u001b[49m\u001b[43m \u001b[49m\u001b[43mgradient\u001b[49m\u001b[43m,\u001b[49m\u001b[43m \u001b[49m\u001b[43mretain_graph\u001b[49m\u001b[43m,\u001b[49m\u001b[43m \u001b[49m\u001b[43mcreate_graph\u001b[49m\u001b[43m,\u001b[49m\u001b[43m \u001b[49m\u001b[43minputs\u001b[49m\u001b[38;5;241;43m=\u001b[39;49m\u001b[43minputs\u001b[49m\n\u001b[0;32m    583\u001b[0m \u001b[43m\u001b[49m\u001b[43m)\u001b[49m\n",
      "File \u001b[1;32mc:\\Users\\mikol\\AppData\\Local\\Programs\\Python\\Python310\\lib\\site-packages\\torch\\autograd\\__init__.py:347\u001b[0m, in \u001b[0;36mbackward\u001b[1;34m(tensors, grad_tensors, retain_graph, create_graph, grad_variables, inputs)\u001b[0m\n\u001b[0;32m    342\u001b[0m     retain_graph \u001b[38;5;241m=\u001b[39m create_graph\n\u001b[0;32m    344\u001b[0m \u001b[38;5;66;03m# The reason we repeat the same comment below is that\u001b[39;00m\n\u001b[0;32m    345\u001b[0m \u001b[38;5;66;03m# some Python versions print out the first line of a multi-line function\u001b[39;00m\n\u001b[0;32m    346\u001b[0m \u001b[38;5;66;03m# calls in the traceback and some print out the last line\u001b[39;00m\n\u001b[1;32m--> 347\u001b[0m \u001b[43m_engine_run_backward\u001b[49m\u001b[43m(\u001b[49m\n\u001b[0;32m    348\u001b[0m \u001b[43m    \u001b[49m\u001b[43mtensors\u001b[49m\u001b[43m,\u001b[49m\n\u001b[0;32m    349\u001b[0m \u001b[43m    \u001b[49m\u001b[43mgrad_tensors_\u001b[49m\u001b[43m,\u001b[49m\n\u001b[0;32m    350\u001b[0m \u001b[43m    \u001b[49m\u001b[43mretain_graph\u001b[49m\u001b[43m,\u001b[49m\n\u001b[0;32m    351\u001b[0m \u001b[43m    \u001b[49m\u001b[43mcreate_graph\u001b[49m\u001b[43m,\u001b[49m\n\u001b[0;32m    352\u001b[0m \u001b[43m    \u001b[49m\u001b[43minputs\u001b[49m\u001b[43m,\u001b[49m\n\u001b[0;32m    353\u001b[0m \u001b[43m    \u001b[49m\u001b[43mallow_unreachable\u001b[49m\u001b[38;5;241;43m=\u001b[39;49m\u001b[38;5;28;43;01mTrue\u001b[39;49;00m\u001b[43m,\u001b[49m\n\u001b[0;32m    354\u001b[0m \u001b[43m    \u001b[49m\u001b[43maccumulate_grad\u001b[49m\u001b[38;5;241;43m=\u001b[39;49m\u001b[38;5;28;43;01mTrue\u001b[39;49;00m\u001b[43m,\u001b[49m\n\u001b[0;32m    355\u001b[0m \u001b[43m\u001b[49m\u001b[43m)\u001b[49m\n",
      "File \u001b[1;32mc:\\Users\\mikol\\AppData\\Local\\Programs\\Python\\Python310\\lib\\site-packages\\torch\\autograd\\graph.py:825\u001b[0m, in \u001b[0;36m_engine_run_backward\u001b[1;34m(t_outputs, *args, **kwargs)\u001b[0m\n\u001b[0;32m    823\u001b[0m     unregister_hooks \u001b[38;5;241m=\u001b[39m _register_logging_hooks_on_whole_graph(t_outputs)\n\u001b[0;32m    824\u001b[0m \u001b[38;5;28;01mtry\u001b[39;00m:\n\u001b[1;32m--> 825\u001b[0m     \u001b[38;5;28;01mreturn\u001b[39;00m Variable\u001b[38;5;241m.\u001b[39m_execution_engine\u001b[38;5;241m.\u001b[39mrun_backward(  \u001b[38;5;66;03m# Calls into the C++ engine to run the backward pass\u001b[39;00m\n\u001b[0;32m    826\u001b[0m         t_outputs, \u001b[38;5;241m*\u001b[39margs, \u001b[38;5;241m*\u001b[39m\u001b[38;5;241m*\u001b[39mkwargs\n\u001b[0;32m    827\u001b[0m     )  \u001b[38;5;66;03m# Calls into the C++ engine to run the backward pass\u001b[39;00m\n\u001b[0;32m    828\u001b[0m \u001b[38;5;28;01mfinally\u001b[39;00m:\n\u001b[0;32m    829\u001b[0m     \u001b[38;5;28;01mif\u001b[39;00m attach_logging_hooks:\n",
      "\u001b[1;31mKeyboardInterrupt\u001b[0m: "
     ]
    }
   ],
   "source": [
    "def batch_end_callback(trainer):\n",
    "    if trainer.iter_num % 100 == 0:\n",
    "        print(\n",
    "            f\"iter_dt {trainer.iter_dt * 1000:.2f}ms; iter {trainer.iter_num}: train loss {trainer.loss.item():.5f}\"\n",
    "        )\n",
    "\n",
    "\n",
    "trainer.set_callback(\"on_batch_end\", batch_end_callback)\n",
    "\n",
    "trainer.run()"
   ]
  },
  {
   "cell_type": "markdown",
   "metadata": {},
   "source": [
    "<!-- @format -->\n",
    "\n",
    "### Model GPT micro\n",
    "\n",
    "śr czas na iteracje 80ms\n",
    "łączna ilość iteracji - 20 000\n",
    "loss~6\n"
   ]
  },
  {
   "cell_type": "code",
   "execution_count": 24,
   "metadata": {},
   "outputs": [],
   "source": [
    "model.eval()\n",
    "\n",
    "\n",
    "None"
   ]
  },
  {
   "cell_type": "code",
   "execution_count": 24,
   "metadata": {},
   "outputs": [],
   "source": [
    "import torch\n",
    "\n",
    "torch.save(model.state_dict(), \"model_mini_l_6.pth\")"
   ]
  },
  {
   "cell_type": "code",
   "execution_count": 27,
   "metadata": {},
   "outputs": [],
   "source": [
    "(gen_results_path := Path(\"gen_res\")).mkdir(parents=True, exist_ok=True)"
   ]
  },
  {
   "cell_type": "code",
   "execution_count": null,
   "metadata": {},
   "outputs": [
    {
     "name": "stdout",
     "output_type": "stream",
     "text": [
      "number of parameters: 1.57M\n"
     ]
    }
   ],
   "source": [
    "from mingpt.model import GPT\n",
    "\n",
    "model_config = GPT.get_default_config()\n",
    "model_config.model_type = \"gpt-nano\"\n",
    "\n",
    "\n",
    "model_config.vocab_size = len(tokenizer)\n",
    "model_config.block_size = 1024\n",
    "\n",
    "\n",
    "model_loaded = GPT(model_config)\n",
    "path_to_model = Path(\"trained/model_nano_1_0.pth\")"
   ]
  },
  {
   "cell_type": "code",
   "execution_count": null,
   "metadata": {},
   "outputs": [
    {
     "name": "stderr",
     "output_type": "stream",
     "text": [
      "C:\\Users\\mikol\\AppData\\Local\\Temp\\ipykernel_11716\\2964552692.py:1: FutureWarning: You are using `torch.load` with `weights_only=False` (the current default value), which uses the default pickle module implicitly. It is possible to construct malicious pickle data which will execute arbitrary code during unpickling (See https://github.com/pytorch/pytorch/blob/main/SECURITY.md#untrusted-models for more details). In a future release, the default value for `weights_only` will be flipped to `True`. This limits the functions that could be executed during unpickling. Arbitrary objects will no longer be allowed to be loaded via this mode unless they are explicitly allowlisted by the user via `torch.serialization.add_safe_globals`. We recommend you start setting `weights_only=True` for any use case where you don't have full control of the loaded file. Please open an issue on GitHub for any issues related to this experimental feature.\n",
      "  model_loaded.load_state_dict(torch.load(path_to_model))\n"
     ]
    },
    {
     "data": {
      "text/plain": [
       "<All keys matched successfully>"
      ]
     },
     "execution_count": 36,
     "metadata": {},
     "output_type": "execute_result"
    }
   ],
   "source": [
    "model_loaded.load_state_dict(torch.load(path_to_model))"
   ]
  },
  {
   "cell_type": "code",
   "execution_count": null,
   "metadata": {},
   "outputs": [],
   "source": [
    "from tqdm import tqdm\n",
    "from copy import deepcopy\n",
    "\n",
    "collator = DataCollator(tokenizer[\"PAD_None\"], copy_inputs_as_labels=True)\n",
    "collator.pad_on_left = True\n",
    "collator.eos_token = None\n",
    "dataloader_test = DataLoader(dataset_test, batch_size=8, collate_fn=collator)\n",
    "\n",
    "count = 0\n",
    "for batch in tqdm(dataloader_test, desc=\"Testing model / Generating results\"):\n",
    "    res = model.generate(\n",
    "        idx=batch[\"input_ids\"].to(\"cuda\"), max_new_tokens=1024, do_sample=True, top_k=50\n",
    "    )\n",
    "\n",
    "    # Saves the generated music, as MIDI files and tokens (json)\n",
    "    for prompt, continuation in zip(batch[\"input_ids\"], res):\n",
    "        generated = continuation[len(prompt) :]\n",
    "        midi = tokenizer.decode([deepcopy(generated.tolist())])\n",
    "\n",
    "        tokens = [generated, prompt, continuation]\n",
    "        tokens = [seq.tolist() for seq in tokens]\n",
    "\n",
    "        for tok_seq in tokens[1:]:\n",
    "            _midi = tokenizer.decode([deepcopy(tok_seq)])\n",
    "            midi.tracks.append(_midi.tracks[0])\n",
    "\n",
    "        midi.tracks[0].name = (\n",
    "            f\"Continuation of original sample ({len(generated)} tokens)\"\n",
    "        )\n",
    "        midi.tracks[1].name = f\"Original sample ({len(prompt)} tokens)\"\n",
    "        midi.tracks[2].name = f\"Original sample and continuation\"\n",
    "\n",
    "        midi.dump_midi(gen_results_path / f\"{count}.mid\")\n",
    "        # tokenizer.save_tokens(tokens, gen_results_path / f'{count}.json')\n",
    "\n",
    "        count += 1"
   ]
  }
 ],
 "metadata": {
  "kernelspec": {
   "display_name": "Python 3",
   "language": "python",
   "name": "python3"
  },
  "language_info": {
   "codemirror_mode": {
    "name": "ipython",
    "version": 3
   },
   "file_extension": ".py",
   "mimetype": "text/x-python",
   "name": "python",
   "nbconvert_exporter": "python",
   "pygments_lexer": "ipython3",
   "version": "3.10.4"
  }
 },
 "nbformat": 4,
 "nbformat_minor": 2
}
